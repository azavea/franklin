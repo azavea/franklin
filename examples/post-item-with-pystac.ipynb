{
 "cells": [
  {
   "cell_type": "markdown",
   "metadata": {},
   "source": [
    "# Importing STACs with PySTAC\n",
    "\n",
    "The [transaction](https://github.com/radiantearth/stac-api-spec/tree/master/extensions/transaction) extension to the STAC API specification allows adding STAC items to an existing collection (among other things). In this example, we'll add STAC 0.9.0 items to an existing collection in Franklin using [PySTAC](https://github.com/azavea/pystac/).\n",
    "\n",
    "This example assumes you have Franklin running locally on port 9090. To set up Franklin locally, see the [README](../README.md). If you're trying this example with Franklin running somewhere else, substitute your base url here:"
   ]
  },
  {
   "cell_type": "code",
   "execution_count": 1,
   "metadata": {},
   "outputs": [],
   "source": [
    "FRANKLIN_HOST = \"http://localhost:9090\""
   ]
  },
  {
   "cell_type": "markdown",
   "metadata": {},
   "source": [
    "## Reading the catalog\n",
    "\n",
    "The items for this example live in `s3://rasterfoundry-development-data-us-east-1/berlin-catalog/`\n",
    "\n",
    "```bash\n",
    "$ aws --profile raster-foundry s3 ls --recursive s3://rasterfoundry-development-data-us-east-1/berlin-catalog/\n",
    "\n",
    "2020-04-14 11:10:04        461 berlin-catalog/catalog.json\n",
    "2020-04-14 11:13:41       1097 berlin-catalog/collection.json\n",
    "2020-04-15 15:23:30  324896818 berlin-catalog/image/berlin-not-cog.tif\n",
    "2020-04-14 12:59:43       1553 berlin-catalog/image/berlin-sentinel.json\n",
    "2020-04-15 15:23:30  112040499 berlin-catalog/image/berlin.tif\n",
    "2020-04-14 10:50:46     587090 berlin-catalog/labels/berlin-labels.tif\n",
    "2020-04-23 17:17:17       1880 berlin-catalog/labels/bldg-labels.json\n",
    "2020-04-15 15:24:04    9005460 berlin-catalog/labels/colormap.png\n",
    "2020-04-15 15:24:06    9005460 berlin-catalog/labels/colormap.tif\n",
    "2020-04-14 10:50:48     666253 berlin-catalog/predictions/berlin-preds.tif\n",
    "2020-04-24 15:38:20       2160 berlin-catalog/predictions/bldg-predictions.json\n",
    "2020-04-24 15:36:54       5367 berlin-catalog/predictions/some-random-boxes.json\n",
    "```\n",
    "\n",
    "We'll read the `berlin-sentinel.json` item with a custom `read_text_method` in `STAC_IO` that's aware of how to read from S3.\n",
    "\n",
    "**Note**: if you don't have a `default` AWS profile, you'll need to set one up using `aws configure` from the [AWS CLI](https://aws.amazon.com/cli/)."
   ]
  },
  {
   "cell_type": "code",
   "execution_count": 2,
   "metadata": {},
   "outputs": [
    {
     "data": {
      "text/plain": [
       "(<Item id=image>, <Catalog id=berlin>)"
      ]
     },
     "execution_count": 2,
     "metadata": {},
     "output_type": "execute_result"
    }
   ],
   "source": [
    "import boto3\n",
    "from pystac import Collection, Item, Link, MediaType\n",
    "from pystac.stac_io import STAC_IO\n",
    "from urllib.parse import urlparse\n",
    "\n",
    "s3_client = boto3.client(\"s3\")\n",
    "\n",
    "def read_text_s3(uri: str) -> str:\n",
    "    parsed = urlparse(uri)\n",
    "    bucket = parsed.hostname\n",
    "    key = parsed.path.lstrip(\"/\")\n",
    "    return s3_client.get_object(Bucket=bucket, Key=key)[\"Body\"].read()\n",
    "\n",
    "STAC_IO.read_text_method = read_text_s3\n",
    "\n",
    "item = Item.from_file(\"s3://rasterfoundry-development-data-us-east-1/berlin-catalog/image/berlin-sentinel.json\")\n",
    "parent = item.get_parent()\n",
    "\n",
    "item.remove_links(\"root\")\n",
    "item.add_link(Link(\n",
    "    rel=\"root\",\n",
    "    target=FRANKLIN_HOST,\n",
    "    media_type=MediaType.JSON,\n",
    "    title=\"Franklin API Root\"\n",
    "))\n",
    "(item, item.get_parent())"
   ]
  },
  {
   "cell_type": "markdown",
   "metadata": {},
   "source": [
    "## Find collections in Franklin\n",
    "\n",
    "Franklin advertises its collections under the `/collections` endpoint. For this example we'll use an existing collection called `berlin` to POST items to."
   ]
  },
  {
   "cell_type": "code",
   "execution_count": 3,
   "metadata": {},
   "outputs": [
    {
     "data": {
      "text/plain": [
       "[<Collection id=berlin>, <Collection id=berlin building predictions-labels-1>]"
      ]
     },
     "execution_count": 3,
     "metadata": {},
     "output_type": "execute_result"
    }
   ],
   "source": [
    "import requests\n",
    "\n",
    "[Collection.from_dict(x) for x in requests.get(f\"{FRANKLIN_HOST}/collections\").json()[\"collections\"]]"
   ]
  },
  {
   "cell_type": "markdown",
   "metadata": {},
   "source": [
    "## Adding items to Franklin\n",
    "\n",
    "Franklin accepts POSTs to `/collections/<id>/items` with STAC 0.9.0 items. Since we have one of those, we can add it to the `berlin` collection:"
   ]
  },
  {
   "cell_type": "code",
   "execution_count": 4,
   "metadata": {},
   "outputs": [
    {
     "data": {
      "text/plain": [
       "<Item id=image>"
      ]
     },
     "execution_count": 4,
     "metadata": {},
     "output_type": "execute_result"
    }
   ],
   "source": [
    "url = f\"{FRANKLIN_HOST}/collections/berlin/items\"\n",
    "resp = requests.post(url, json=item.to_dict())\n",
    "result_item = Item.from_dict(resp.json())\n",
    "result_item"
   ]
  },
  {
   "cell_type": "code",
   "execution_count": 5,
   "metadata": {},
   "outputs": [
    {
     "data": {
      "text/plain": [
       "{'type': 'Feature',\n",
       " 'stac_version': '0.9.0',\n",
       " 'id': 'image',\n",
       " 'properties': {'datetime': '2018-03-03T10:20:19Z'},\n",
       " 'geometry': {'type': 'Polygon',\n",
       "  'coordinates': [[[13.742925226720015, 52.64467528345354],\n",
       "    [13.330610521659846, 52.63948385599755],\n",
       "    [13.340993376571825, 52.363530645448044],\n",
       "    [13.756192207996433, 52.36860670784946],\n",
       "    [13.742925226720015, 52.64467528345354]]]},\n",
       " 'bbox': [13.330610521659846,\n",
       "  52.363530645448044,\n",
       "  13.756192207996433,\n",
       "  52.64467528345354],\n",
       " 'links': [{'rel': 'parent',\n",
       "   'href': 'http://localhost:9090/api/collections/berlin',\n",
       "   'type': 'application/json',\n",
       "   'label:assets': []},\n",
       "  {'rel': 'self',\n",
       "   'href': 's3://rasterfoundry-development-data-us-east-1/berlin-catalog/image/berlin-sentinel.json',\n",
       "   'type': 'application/json',\n",
       "   'label:assets': []},\n",
       "  {'rel': 'root',\n",
       "   'href': 'http://localhost:9090',\n",
       "   'type': 'application/json',\n",
       "   'title': 'Franklin API Root',\n",
       "   'label:assets': []}],\n",
       " 'assets': {'sentinel image': {'href': 's3://rasterfoundry-development-data-us-east-1/berlin-catalog/image/berlin.tif',\n",
       "   'type': 'image/vnd.stac.geotiff; cloud-optimized=true',\n",
       "   'title': 'GeoTIFF',\n",
       "   'roles': ['data']}},\n",
       " 'stac_extensions': [],\n",
       " 'collection': 'berlin'}"
      ]
     },
     "execution_count": 5,
     "metadata": {},
     "output_type": "execute_result"
    }
   ],
   "source": [
    "result_item.to_dict()"
   ]
  },
  {
   "cell_type": "markdown",
   "metadata": {},
   "source": [
    "## More transactions\n",
    "\n",
    "The transactions endpoint also allows us to update and delete items. Any STAC API that adheres to the transaction extension allows ongoing maintenance of your STAC data as you acquire new data or discover new attributes of your data.\n",
    "\n",
    "For example, we could update the item we just posted to give it a property `\"manuallyCreated\": true`:"
   ]
  },
  {
   "cell_type": "code",
   "execution_count": 6,
   "metadata": {},
   "outputs": [
    {
     "data": {
      "text/plain": [
       "{'datetime': '2018-03-03T10:20:19Z', 'manuallyCreated': True}"
      ]
     },
     "execution_count": 6,
     "metadata": {},
     "output_type": "execute_result"
    }
   ],
   "source": [
    "result_item.properties[\"manuallyCreated\"] = True\n",
    "result_item.properties"
   ]
  },
  {
   "cell_type": "code",
   "execution_count": 7,
   "metadata": {},
   "outputs": [
    {
     "data": {
      "text/plain": [
       "{'datetime': '2018-03-03T10:20:19Z', 'manuallyCreated': True}"
      ]
     },
     "execution_count": 7,
     "metadata": {},
     "output_type": "execute_result"
    }
   ],
   "source": [
    "item_url = f\"{FRANKLIN_HOST}/collections/berlin/items/{result_item.id}\"\n",
    "update_resp = requests.put(item_url, json=result_item.to_dict(), headers={\"If-Match\": resp.headers[\"ETag\"]})\n",
    "update_resp.raise_for_status()\n",
    "get_resp = requests.get(item_url)\n",
    "get_resp.raise_for_status()\n",
    "item.from_dict(get_resp.json()).properties"
   ]
  },
  {
   "cell_type": "markdown",
   "metadata": {},
   "source": [
    "Or if we decide that we'd rather just get rid of this item, we can delete it instead:"
   ]
  },
  {
   "cell_type": "code",
   "execution_count": 8,
   "metadata": {},
   "outputs": [],
   "source": [
    "delete_resp = requests.delete(item_url)\n",
    "delete_resp.raise_for_status()"
   ]
  }
 ],
 "metadata": {
  "kernelspec": {
   "display_name": "Python 3",
   "language": "python",
   "name": "python3"
  },
  "language_info": {
   "codemirror_mode": {
    "name": "ipython",
    "version": 3
   },
   "file_extension": ".py",
   "mimetype": "text/x-python",
   "name": "python",
   "nbconvert_exporter": "python",
   "pygments_lexer": "ipython3",
   "version": "3.8.2"
  }
 },
 "nbformat": 4,
 "nbformat_minor": 4
}
